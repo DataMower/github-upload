{
 "cells": [
  {
   "cell_type": "code",
   "execution_count": 6,
   "metadata": {},
   "outputs": [],
   "source": [
    "from random import randrange"
   ]
  },
  {
   "cell_type": "code",
   "execution_count": 7,
   "metadata": {},
   "outputs": [],
   "source": [
    "def roll1():\n",
    "    s = randrange(1,7)\n",
    "    return s"
   ]
  },
  {
   "cell_type": "code",
   "execution_count": 8,
   "metadata": {},
   "outputs": [],
   "source": [
    "def roll5(count):\n",
    "    first = randrange(1,7)\n",
    "    for i in range(count-1):\n",
    "        roll = randrange(1,7)\n",
    "        if roll != first:\n",
    "            return False\n",
    "    return True"
   ]
  },
  {
   "cell_type": "code",
   "execution_count": 9,
   "metadata": {},
   "outputs": [],
   "source": [
    "def main():\n",
    "    print(\"This program estimates the probability of rolling five of a kind\")\n",
    "    print(\"in a single roll of five six-sided dice\")\n",
    "    print()\n",
    "    \n",
    "    n = int(input(\"How many simulated rolls? \"))\n",
    "    \n",
    "    fivekind = []\n",
    "    for i in range(n):\n",
    "        fk = roll5(5)\n",
    "        fivekind.append(fk)\n",
    "    c = fivekind.count(True)\n",
    "    \n",
    "    print(\"The expected probability is {0:0.6f}\".format((c/n)))"
   ]
  },
  {
   "cell_type": "code",
   "execution_count": 10,
   "metadata": {},
   "outputs": [
    {
     "name": "stdout",
     "output_type": "stream",
     "text": [
      "This program estimates the probability of rolling five of a kind\n",
      "in a single roll of five six-sided dice\n",
      "\n",
      "How many simulated rolls? 1000000\n",
      "The expected probability is 0.000723\n"
     ]
    }
   ],
   "source": [
    "if __name__ == '__main__':\n",
    "    main()"
   ]
  },
  {
   "cell_type": "code",
   "execution_count": null,
   "metadata": {},
   "outputs": [],
   "source": []
  }
 ],
 "metadata": {
  "kernelspec": {
   "display_name": "Python 3",
   "language": "python",
   "name": "python3"
  },
  "language_info": {
   "codemirror_mode": {
    "name": "ipython",
    "version": 3
   },
   "file_extension": ".py",
   "mimetype": "text/x-python",
   "name": "python",
   "nbconvert_exporter": "python",
   "pygments_lexer": "ipython3",
   "version": "3.7.3"
  }
 },
 "nbformat": 4,
 "nbformat_minor": 2
}
